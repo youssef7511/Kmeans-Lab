{
 "cells": [
  {
   "cell_type": "code",
   "execution_count": 2,
   "id": "8366e61e",
   "metadata": {},
   "outputs": [
    {
     "name": "stdout",
     "output_type": "stream",
     "text": [
      "<class 'pandas.core.frame.DataFrame'>\n",
      "RangeIndex: 4600 entries, 0 to 4599\n",
      "Data columns (total 18 columns):\n",
      " #   Column         Non-Null Count  Dtype         \n",
      "---  ------         --------------  -----         \n",
      " 0   date           4600 non-null   datetime64[ns]\n",
      " 1   price          4600 non-null   float64       \n",
      " 2   bedrooms       4600 non-null   int64         \n",
      " 3   bathrooms      4600 non-null   float64       \n",
      " 4   sqft_living    4600 non-null   int64         \n",
      " 5   sqft_lot       4600 non-null   int64         \n",
      " 6   floors         4600 non-null   float64       \n",
      " 7   waterfront     4600 non-null   int64         \n",
      " 8   view           4600 non-null   int64         \n",
      " 9   condition      4600 non-null   int64         \n",
      " 10  sqft_above     4600 non-null   int64         \n",
      " 11  sqft_basement  4600 non-null   int64         \n",
      " 12  yr_built       4600 non-null   int64         \n",
      " 13  yr_renovated   4600 non-null   int64         \n",
      " 14  street         4600 non-null   object        \n",
      " 15  city           4600 non-null   object        \n",
      " 16  statezip       4600 non-null   object        \n",
      " 17  country        4600 non-null   object        \n",
      "dtypes: datetime64[ns](1), float64(3), int64(10), object(4)\n",
      "memory usage: 647.0+ KB\n",
      "None\n",
      "        date      price  bedrooms  bathrooms  sqft_living  sqft_lot  floors  \\\n",
      "0 2014-05-02   313000.0         3       1.50         1340      7912     1.5   \n",
      "1 2014-05-02  2384000.0         5       2.50         3650      9050     2.0   \n",
      "2 2014-05-02   342000.0         3       2.00         1930     11947     1.0   \n",
      "3 2014-05-02   420000.0         3       2.25         2000      8030     1.0   \n",
      "4 2014-05-02   550000.0         4       2.50         1940     10500     1.0   \n",
      "\n",
      "   waterfront  view  condition  sqft_above  sqft_basement  yr_built  \\\n",
      "0           0     0          3        1340              0      1955   \n",
      "1           0     4          5        3370            280      1921   \n",
      "2           0     0          4        1930              0      1966   \n",
      "3           0     0          4        1000           1000      1963   \n",
      "4           0     0          4        1140            800      1976   \n",
      "\n",
      "   yr_renovated                    street       city  statezip country  \n",
      "0          2005      18810 Densmore Ave N  Shoreline  WA 98133     USA  \n",
      "1             0           709 W Blaine St    Seattle  WA 98119     USA  \n",
      "2             0  26206-26214 143rd Ave SE       Kent  WA 98042     USA  \n",
      "3             0           857 170th Pl NE   Bellevue  WA 98008     USA  \n",
      "4          1992         9105 170th Ave NE    Redmond  WA 98052     USA  \n"
     ]
    }
   ],
   "source": [
    "import pandas as pd\n",
    "import numpy as np\n",
    "import matplotlib.pyplot as plt\n",
    "import seaborn as sns\n",
    "\n",
    "# Load the dataset\n",
    "df = pd.read_excel('AgencyDataset.xlsx', sheet_name='data')\n",
    "\n",
    "# Display basic info\n",
    "print(df.info())\n",
    "print(df.head())"
   ]
  },
  {
   "cell_type": "code",
   "execution_count": 3,
   "id": "9f2da70d",
   "metadata": {},
   "outputs": [
    {
     "name": "stdout",
     "output_type": "stream",
     "text": [
      "date             0\n",
      "price            0\n",
      "bedrooms         0\n",
      "bathrooms        0\n",
      "sqft_living      0\n",
      "sqft_lot         0\n",
      "floors           0\n",
      "waterfront       0\n",
      "view             0\n",
      "condition        0\n",
      "sqft_above       0\n",
      "sqft_basement    0\n",
      "yr_built         0\n",
      "yr_renovated     0\n",
      "street           0\n",
      "city             0\n",
      "statezip         0\n",
      "country          0\n",
      "dtype: int64\n"
     ]
    }
   ],
   "source": [
    "# Check for missing values\n",
    "print(df.isnull().sum())\n",
    "\n",
    "# For yr_renovated, replace 0 with NaN (since 0 likely means never renovated)\n",
    "df['yr_renovated'] = df['yr_renovated'].replace(0, np.nan)\n",
    "\n",
    "# For waterfront (binary), replace missing with 0 (assuming missing means no waterfront)\n",
    "df['waterfront'] = df['waterfront'].fillna(0)"
   ]
  },
  {
   "cell_type": "code",
   "execution_count": 4,
   "id": "54d905f5",
   "metadata": {},
   "outputs": [
    {
     "name": "stdout",
     "output_type": "stream",
     "text": [
      "\n",
      "Number of outliers in price: 240\n",
      "Lower bound: -175256.25, Upper bound: 1153093.75\n",
      "\n",
      "Number of outliers in sqft_living: 129\n",
      "Lower bound: -280.00, Upper bound: 4360.00\n",
      "\n",
      "Number of outliers in sqft_lot: 541\n",
      "Lower bound: -4000.00, Upper bound: 20002.00\n",
      "\n",
      "Number of outliers in sqft_above: 116\n",
      "Lower bound: -475.00, Upper bound: 3965.00\n",
      "\n",
      "Number of outliers in sqft_basement: 82\n",
      "Lower bound: -915.00, Upper bound: 1525.00\n"
     ]
    }
   ],
   "source": [
    "# Select numerical columns that might have outliers\n",
    "num_cols = ['price', 'sqft_living', 'sqft_lot', 'sqft_above', 'sqft_basement']\n",
    "\n",
    "for col in num_cols:\n",
    "    # Calculate IQR\n",
    "    Q1 = df[col].quantile(0.25)\n",
    "    Q3 = df[col].quantile(0.75)\n",
    "    IQR = Q3 - Q1\n",
    "    \n",
    "    # Define bounds (1.5*IQR is a common threshold)\n",
    "    lower_bound = Q1 - 1.5 * IQR\n",
    "    upper_bound = Q3 + 1.5 * IQR\n",
    "    \n",
    "    # Identify outliers\n",
    "    outliers = df[(df[col] < lower_bound) | (df[col] > upper_bound)]\n",
    "    print(f\"\\nNumber of outliers in {col}: {len(outliers)}\")\n",
    "    print(f\"Lower bound: {lower_bound:.2f}, Upper bound: {upper_bound:.2f}\")\n",
    "    \n",
    "    # Option 1: Cap outliers at the bounds\n",
    "    df[col] = np.where(df[col] < lower_bound, lower_bound, \n",
    "                      np.where(df[col] > upper_bound, upper_bound, df[col]))\n",
    "    \n",
    "    # Option 2: Replace outliers with median (uncomment to use instead)\n",
    "    # median_val = df[col].median()\n",
    "    # df[col] = np.where((df[col] < lower_bound) | (df[col] > upper_bound), \n",
    "    #                   median_val, \n",
    "    #                   df[col])"
   ]
  },
  {
   "cell_type": "code",
   "execution_count": 5,
   "id": "230c5322",
   "metadata": {},
   "outputs": [],
   "source": [
    "# Convert date to datetime\n",
    "df['date'] = pd.to_datetime(df['date'])\n",
    "\n",
    "# Convert categorical columns to proper types\n",
    "cat_cols = ['waterfront', 'view', 'condition']\n",
    "df[cat_cols] = df[cat_cols].astype('category')"
   ]
  },
  {
   "cell_type": "code",
   "execution_count": 6,
   "id": "bf19d240",
   "metadata": {},
   "outputs": [],
   "source": [
    "# Create age of property\n",
    "df['age'] = df['date'].dt.year - df['yr_built']\n",
    "\n",
    "# Create renovation flag\n",
    "df['is_renovated'] = np.where(df['yr_renovated'].isna(), 0, 1)\n",
    "\n",
    "# Create price per sqft\n",
    "df['price_per_sqft'] = df['price'] / df['sqft_living']\n",
    "\n",
    "# Create total rooms\n",
    "df['total_rooms'] = df['bedrooms'] + df['bathrooms']"
   ]
  },
  {
   "cell_type": "code",
   "execution_count": 7,
   "id": "63a5ae0f",
   "metadata": {},
   "outputs": [],
   "source": [
    "# Apply log transformation to skewed numerical features\n",
    "skewed_cols = ['price', 'sqft_living', 'sqft_lot', 'sqft_above', 'sqft_basement']\n",
    "for col in skewed_cols:\n",
    "    df[col+'_log'] = np.log1p(df[col])"
   ]
  },
  {
   "cell_type": "code",
   "execution_count": 8,
   "id": "d905f6c5",
   "metadata": {},
   "outputs": [],
   "source": [
    "# One-hot encode city (with top 10 most frequent cities)\n",
    "top_cities = df['city'].value_counts().nlargest(10).index\n",
    "for city in top_cities:\n",
    "    df['city_'+city] = np.where(df['city']==city, 1, 0)"
   ]
  },
  {
   "cell_type": "code",
   "execution_count": 9,
   "id": "1bd304df",
   "metadata": {},
   "outputs": [],
   "source": [
    "# Drop unnecessary columns\n",
    "df = df.drop(['street', 'statezip', 'country'], axis=1)\n",
    "\n",
    "# Save cleaned data\n",
    "df.to_csv('cleaned_real_estate_data.csv', index=False)"
   ]
  }
 ],
 "metadata": {
  "kernelspec": {
   "display_name": ".venv",
   "language": "python",
   "name": "python3"
  },
  "language_info": {
   "codemirror_mode": {
    "name": "ipython",
    "version": 3
   },
   "file_extension": ".py",
   "mimetype": "text/x-python",
   "name": "python",
   "nbconvert_exporter": "python",
   "pygments_lexer": "ipython3",
   "version": "3.11.9"
  }
 },
 "nbformat": 4,
 "nbformat_minor": 5
}
